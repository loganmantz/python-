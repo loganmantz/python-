{
 "cells": [
  {
   "cell_type": "code",
   "execution_count": 1,
   "metadata": {},
   "outputs": [],
   "source": [
    "import pandas as pd\n",
    "\n"
   ]
  },
  {
   "cell_type": "code",
   "execution_count": 2,
   "metadata": {},
   "outputs": [],
   "source": [
    "wichita = pd.read_csv(\"https://datajournalism.tech/wp-content/uploads/2019/10/wichita.csv\")"
   ]
  },
  {
   "cell_type": "code",
   "execution_count": 3,
   "metadata": {},
   "outputs": [
    {
     "name": "stdout",
     "output_type": "stream",
     "text": [
      "<class 'pandas.core.frame.DataFrame'>\n",
      "RangeIndex: 57750 entries, 0 to 57749\n",
      "Data columns (total 22 columns):\n",
      "Unnamed: 0                 57750 non-null int64\n",
      "raw_row_number             57750 non-null object\n",
      "date                       57750 non-null object\n",
      "time                       57750 non-null object\n",
      "location                   56621 non-null object\n",
      "lat                        56583 non-null float64\n",
      "lng                        56583 non-null float64\n",
      "subject_age                47622 non-null float64\n",
      "subject_race               57750 non-null object\n",
      "subject_sex                49056 non-null object\n",
      "type                       57750 non-null object\n",
      "disposition                56753 non-null object\n",
      "violation                  57750 non-null object\n",
      "citation_issued            57750 non-null bool\n",
      "outcome                    57750 non-null object\n",
      "posted_speed               22601 non-null float64\n",
      "vehicle_color              56235 non-null object\n",
      "vehicle_make               56548 non-null object\n",
      "vehicle_model              37877 non-null object\n",
      "vehicle_year               14514 non-null float64\n",
      "raw_defendant_race         57750 non-null object\n",
      "raw_defendant_ethnicity    40293 non-null object\n",
      "dtypes: bool(1), float64(5), int64(1), object(15)\n",
      "memory usage: 9.3+ MB\n"
     ]
    }
   ],
   "source": [
    "wichita.info()"
   ]
  },
  {
   "cell_type": "code",
   "execution_count": 4,
   "metadata": {},
   "outputs": [
    {
     "data": {
      "text/html": [
       "<div>\n",
       "<style scoped>\n",
       "    .dataframe tbody tr th:only-of-type {\n",
       "        vertical-align: middle;\n",
       "    }\n",
       "\n",
       "    .dataframe tbody tr th {\n",
       "        vertical-align: top;\n",
       "    }\n",
       "\n",
       "    .dataframe thead th {\n",
       "        text-align: right;\n",
       "    }\n",
       "</style>\n",
       "<table border=\"1\" class=\"dataframe\">\n",
       "  <thead>\n",
       "    <tr style=\"text-align: right;\">\n",
       "      <th></th>\n",
       "      <th>Unnamed: 0</th>\n",
       "      <th>raw_row_number</th>\n",
       "      <th>date</th>\n",
       "      <th>time</th>\n",
       "      <th>location</th>\n",
       "      <th>lat</th>\n",
       "      <th>lng</th>\n",
       "      <th>subject_age</th>\n",
       "      <th>subject_race</th>\n",
       "      <th>subject_sex</th>\n",
       "      <th>...</th>\n",
       "      <th>violation</th>\n",
       "      <th>citation_issued</th>\n",
       "      <th>outcome</th>\n",
       "      <th>posted_speed</th>\n",
       "      <th>vehicle_color</th>\n",
       "      <th>vehicle_make</th>\n",
       "      <th>vehicle_model</th>\n",
       "      <th>vehicle_year</th>\n",
       "      <th>raw_defendant_race</th>\n",
       "      <th>raw_defendant_ethnicity</th>\n",
       "    </tr>\n",
       "  </thead>\n",
       "  <tbody>\n",
       "    <tr>\n",
       "      <th>0</th>\n",
       "      <td>1</td>\n",
       "      <td>923578</td>\n",
       "      <td>2016-01-01</td>\n",
       "      <td>18:00:00</td>\n",
       "      <td>N WEST ST, KS, 67205</td>\n",
       "      <td>37.741425</td>\n",
       "      <td>-97.389764</td>\n",
       "      <td>16.0</td>\n",
       "      <td>white</td>\n",
       "      <td>female</td>\n",
       "      <td>...</td>\n",
       "      <td>RUN STOP SIGN</td>\n",
       "      <td>True</td>\n",
       "      <td>citation</td>\n",
       "      <td>NaN</td>\n",
       "      <td>BURGUNDY OR MAROON</td>\n",
       "      <td>JEEP (1989 TO PRESENT)</td>\n",
       "      <td>NaN</td>\n",
       "      <td>2008.0</td>\n",
       "      <td>W</td>\n",
       "      <td>N</td>\n",
       "    </tr>\n",
       "    <tr>\n",
       "      <th>1</th>\n",
       "      <td>2</td>\n",
       "      <td>923657</td>\n",
       "      <td>2016-01-01</td>\n",
       "      <td>18:08:00</td>\n",
       "      <td>8000 W 13TH ST N, WICHITA, KS, 67212</td>\n",
       "      <td>37.708795</td>\n",
       "      <td>-97.440594</td>\n",
       "      <td>44.0</td>\n",
       "      <td>white</td>\n",
       "      <td>male</td>\n",
       "      <td>...</td>\n",
       "      <td>SPEED OVER LIMIT</td>\n",
       "      <td>True</td>\n",
       "      <td>citation</td>\n",
       "      <td>40.0</td>\n",
       "      <td>\"ALUMINUM, SILVER\"</td>\n",
       "      <td>HYUNDAI</td>\n",
       "      <td>TUCSON</td>\n",
       "      <td>NaN</td>\n",
       "      <td>W</td>\n",
       "      <td>N</td>\n",
       "    </tr>\n",
       "    <tr>\n",
       "      <th>2</th>\n",
       "      <td>3</td>\n",
       "      <td>912091</td>\n",
       "      <td>2016-01-01</td>\n",
       "      <td>18:11:00</td>\n",
       "      <td>500 S LIMUEL ST, WICHITA, KS, 67235</td>\n",
       "      <td>37.674821</td>\n",
       "      <td>-97.489990</td>\n",
       "      <td>20.0</td>\n",
       "      <td>white</td>\n",
       "      <td>male</td>\n",
       "      <td>...</td>\n",
       "      <td>DUI; INATTENTIVE DRIVING</td>\n",
       "      <td>True</td>\n",
       "      <td>citation</td>\n",
       "      <td>NaN</td>\n",
       "      <td>WHITE</td>\n",
       "      <td>HONDA</td>\n",
       "      <td>NaN</td>\n",
       "      <td>NaN</td>\n",
       "      <td>W</td>\n",
       "      <td>N</td>\n",
       "    </tr>\n",
       "    <tr>\n",
       "      <th>3</th>\n",
       "      <td>4</td>\n",
       "      <td>923680</td>\n",
       "      <td>2016-01-01</td>\n",
       "      <td>18:13:00</td>\n",
       "      <td>7600 W 21ST ST N, WICHITA, KS, 67205</td>\n",
       "      <td>37.724018</td>\n",
       "      <td>-97.431369</td>\n",
       "      <td>21.0</td>\n",
       "      <td>hispanic</td>\n",
       "      <td>female</td>\n",
       "      <td>...</td>\n",
       "      <td>SPEED OVER LIMIT</td>\n",
       "      <td>True</td>\n",
       "      <td>citation</td>\n",
       "      <td>40.0</td>\n",
       "      <td>\"ALUMINUM, SILVER\"</td>\n",
       "      <td>TOYOTA</td>\n",
       "      <td>NaN</td>\n",
       "      <td>NaN</td>\n",
       "      <td>W</td>\n",
       "      <td>H</td>\n",
       "    </tr>\n",
       "    <tr>\n",
       "      <th>4</th>\n",
       "      <td>5</td>\n",
       "      <td>923681</td>\n",
       "      <td>2016-01-01</td>\n",
       "      <td>18:23:00</td>\n",
       "      <td>7600 W 21ST ST N, WICHITA, KS, 67205</td>\n",
       "      <td>37.724018</td>\n",
       "      <td>-97.431369</td>\n",
       "      <td>28.0</td>\n",
       "      <td>hispanic</td>\n",
       "      <td>male</td>\n",
       "      <td>...</td>\n",
       "      <td>SPEED OVER LIMIT</td>\n",
       "      <td>True</td>\n",
       "      <td>citation</td>\n",
       "      <td>40.0</td>\n",
       "      <td>\"ALUMINUM, SILVER\"</td>\n",
       "      <td>CHEVROLET</td>\n",
       "      <td>SILVERADO</td>\n",
       "      <td>NaN</td>\n",
       "      <td>W</td>\n",
       "      <td>H</td>\n",
       "    </tr>\n",
       "  </tbody>\n",
       "</table>\n",
       "<p>5 rows × 22 columns</p>\n",
       "</div>"
      ],
      "text/plain": [
       "   Unnamed: 0 raw_row_number        date      time  \\\n",
       "0           1         923578  2016-01-01  18:00:00   \n",
       "1           2         923657  2016-01-01  18:08:00   \n",
       "2           3         912091  2016-01-01  18:11:00   \n",
       "3           4         923680  2016-01-01  18:13:00   \n",
       "4           5         923681  2016-01-01  18:23:00   \n",
       "\n",
       "                               location        lat        lng  subject_age  \\\n",
       "0                  N WEST ST, KS, 67205  37.741425 -97.389764         16.0   \n",
       "1  8000 W 13TH ST N, WICHITA, KS, 67212  37.708795 -97.440594         44.0   \n",
       "2   500 S LIMUEL ST, WICHITA, KS, 67235  37.674821 -97.489990         20.0   \n",
       "3  7600 W 21ST ST N, WICHITA, KS, 67205  37.724018 -97.431369         21.0   \n",
       "4  7600 W 21ST ST N, WICHITA, KS, 67205  37.724018 -97.431369         28.0   \n",
       "\n",
       "  subject_race subject_sex  ...                 violation citation_issued  \\\n",
       "0        white      female  ...             RUN STOP SIGN            True   \n",
       "1        white        male  ...          SPEED OVER LIMIT            True   \n",
       "2        white        male  ...  DUI; INATTENTIVE DRIVING            True   \n",
       "3     hispanic      female  ...          SPEED OVER LIMIT            True   \n",
       "4     hispanic        male  ...          SPEED OVER LIMIT            True   \n",
       "\n",
       "    outcome  posted_speed       vehicle_color            vehicle_make  \\\n",
       "0  citation           NaN  BURGUNDY OR MAROON  JEEP (1989 TO PRESENT)   \n",
       "1  citation          40.0  \"ALUMINUM, SILVER\"                 HYUNDAI   \n",
       "2  citation           NaN               WHITE                   HONDA   \n",
       "3  citation          40.0  \"ALUMINUM, SILVER\"                  TOYOTA   \n",
       "4  citation          40.0  \"ALUMINUM, SILVER\"               CHEVROLET   \n",
       "\n",
       "  vehicle_model vehicle_year raw_defendant_race  raw_defendant_ethnicity  \n",
       "0           NaN       2008.0                  W                        N  \n",
       "1        TUCSON          NaN                  W                        N  \n",
       "2           NaN          NaN                  W                        N  \n",
       "3           NaN          NaN                  W                        H  \n",
       "4     SILVERADO          NaN                  W                        H  \n",
       "\n",
       "[5 rows x 22 columns]"
      ]
     },
     "execution_count": 4,
     "metadata": {},
     "output_type": "execute_result"
    }
   ],
   "source": [
    "wichita.head()"
   ]
  },
  {
   "cell_type": "code",
   "execution_count": 5,
   "metadata": {},
   "outputs": [],
   "source": [
    "four = wichita[wichita.subject_race != \"other/unknown\"]"
   ]
  },
  {
   "cell_type": "code",
   "execution_count": 6,
   "metadata": {},
   "outputs": [
    {
     "name": "stdout",
     "output_type": "stream",
     "text": [
      "<class 'pandas.core.frame.DataFrame'>\n",
      "Int64Index: 48415 entries, 0 to 57749\n",
      "Data columns (total 22 columns):\n",
      "Unnamed: 0                 48415 non-null int64\n",
      "raw_row_number             48415 non-null object\n",
      "date                       48415 non-null object\n",
      "time                       48415 non-null object\n",
      "location                   47409 non-null object\n",
      "lat                        47380 non-null float64\n",
      "lng                        47380 non-null float64\n",
      "subject_age                46979 non-null float64\n",
      "subject_race               48415 non-null object\n",
      "subject_sex                48411 non-null object\n",
      "type                       48415 non-null object\n",
      "disposition                47452 non-null object\n",
      "violation                  48415 non-null object\n",
      "citation_issued            48415 non-null bool\n",
      "outcome                    48415 non-null object\n",
      "posted_speed               22307 non-null float64\n",
      "vehicle_color              47076 non-null object\n",
      "vehicle_make               47337 non-null object\n",
      "vehicle_model              32128 non-null object\n",
      "vehicle_year               12998 non-null float64\n",
      "raw_defendant_race         48415 non-null object\n",
      "raw_defendant_ethnicity    39866 non-null object\n",
      "dtypes: bool(1), float64(5), int64(1), object(15)\n",
      "memory usage: 8.2+ MB\n"
     ]
    }
   ],
   "source": [
    "four.info()"
   ]
  },
  {
   "cell_type": "code",
   "execution_count": 7,
   "metadata": {},
   "outputs": [
    {
     "data": {
      "text/html": [
       "<div>\n",
       "<style scoped>\n",
       "    .dataframe tbody tr th:only-of-type {\n",
       "        vertical-align: middle;\n",
       "    }\n",
       "\n",
       "    .dataframe tbody tr th {\n",
       "        vertical-align: top;\n",
       "    }\n",
       "\n",
       "    .dataframe thead th {\n",
       "        text-align: right;\n",
       "    }\n",
       "</style>\n",
       "<table border=\"1\" class=\"dataframe\">\n",
       "  <thead>\n",
       "    <tr style=\"text-align: right;\">\n",
       "      <th></th>\n",
       "      <th>Unnamed: 0</th>\n",
       "      <th>raw_row_number</th>\n",
       "      <th>date</th>\n",
       "      <th>time</th>\n",
       "      <th>location</th>\n",
       "      <th>lat</th>\n",
       "      <th>lng</th>\n",
       "      <th>subject_age</th>\n",
       "      <th>subject_race</th>\n",
       "      <th>subject_sex</th>\n",
       "      <th>...</th>\n",
       "      <th>violation</th>\n",
       "      <th>citation_issued</th>\n",
       "      <th>outcome</th>\n",
       "      <th>posted_speed</th>\n",
       "      <th>vehicle_color</th>\n",
       "      <th>vehicle_make</th>\n",
       "      <th>vehicle_model</th>\n",
       "      <th>vehicle_year</th>\n",
       "      <th>raw_defendant_race</th>\n",
       "      <th>raw_defendant_ethnicity</th>\n",
       "    </tr>\n",
       "  </thead>\n",
       "  <tbody>\n",
       "    <tr>\n",
       "      <th>0</th>\n",
       "      <td>1</td>\n",
       "      <td>923578</td>\n",
       "      <td>2016-01-01</td>\n",
       "      <td>18:00:00</td>\n",
       "      <td>N WEST ST, KS, 67205</td>\n",
       "      <td>37.741425</td>\n",
       "      <td>-97.389764</td>\n",
       "      <td>16.0</td>\n",
       "      <td>white</td>\n",
       "      <td>female</td>\n",
       "      <td>...</td>\n",
       "      <td>RUN STOP SIGN</td>\n",
       "      <td>True</td>\n",
       "      <td>citation</td>\n",
       "      <td>NaN</td>\n",
       "      <td>BURGUNDY OR MAROON</td>\n",
       "      <td>JEEP (1989 TO PRESENT)</td>\n",
       "      <td>NaN</td>\n",
       "      <td>2008.0</td>\n",
       "      <td>W</td>\n",
       "      <td>N</td>\n",
       "    </tr>\n",
       "    <tr>\n",
       "      <th>1</th>\n",
       "      <td>2</td>\n",
       "      <td>923657</td>\n",
       "      <td>2016-01-01</td>\n",
       "      <td>18:08:00</td>\n",
       "      <td>8000 W 13TH ST N, WICHITA, KS, 67212</td>\n",
       "      <td>37.708795</td>\n",
       "      <td>-97.440594</td>\n",
       "      <td>44.0</td>\n",
       "      <td>white</td>\n",
       "      <td>male</td>\n",
       "      <td>...</td>\n",
       "      <td>SPEED OVER LIMIT</td>\n",
       "      <td>True</td>\n",
       "      <td>citation</td>\n",
       "      <td>40.0</td>\n",
       "      <td>\"ALUMINUM, SILVER\"</td>\n",
       "      <td>HYUNDAI</td>\n",
       "      <td>TUCSON</td>\n",
       "      <td>NaN</td>\n",
       "      <td>W</td>\n",
       "      <td>N</td>\n",
       "    </tr>\n",
       "    <tr>\n",
       "      <th>2</th>\n",
       "      <td>3</td>\n",
       "      <td>912091</td>\n",
       "      <td>2016-01-01</td>\n",
       "      <td>18:11:00</td>\n",
       "      <td>500 S LIMUEL ST, WICHITA, KS, 67235</td>\n",
       "      <td>37.674821</td>\n",
       "      <td>-97.489990</td>\n",
       "      <td>20.0</td>\n",
       "      <td>white</td>\n",
       "      <td>male</td>\n",
       "      <td>...</td>\n",
       "      <td>DUI; INATTENTIVE DRIVING</td>\n",
       "      <td>True</td>\n",
       "      <td>citation</td>\n",
       "      <td>NaN</td>\n",
       "      <td>WHITE</td>\n",
       "      <td>HONDA</td>\n",
       "      <td>NaN</td>\n",
       "      <td>NaN</td>\n",
       "      <td>W</td>\n",
       "      <td>N</td>\n",
       "    </tr>\n",
       "    <tr>\n",
       "      <th>3</th>\n",
       "      <td>4</td>\n",
       "      <td>923680</td>\n",
       "      <td>2016-01-01</td>\n",
       "      <td>18:13:00</td>\n",
       "      <td>7600 W 21ST ST N, WICHITA, KS, 67205</td>\n",
       "      <td>37.724018</td>\n",
       "      <td>-97.431369</td>\n",
       "      <td>21.0</td>\n",
       "      <td>hispanic</td>\n",
       "      <td>female</td>\n",
       "      <td>...</td>\n",
       "      <td>SPEED OVER LIMIT</td>\n",
       "      <td>True</td>\n",
       "      <td>citation</td>\n",
       "      <td>40.0</td>\n",
       "      <td>\"ALUMINUM, SILVER\"</td>\n",
       "      <td>TOYOTA</td>\n",
       "      <td>NaN</td>\n",
       "      <td>NaN</td>\n",
       "      <td>W</td>\n",
       "      <td>H</td>\n",
       "    </tr>\n",
       "    <tr>\n",
       "      <th>4</th>\n",
       "      <td>5</td>\n",
       "      <td>923681</td>\n",
       "      <td>2016-01-01</td>\n",
       "      <td>18:23:00</td>\n",
       "      <td>7600 W 21ST ST N, WICHITA, KS, 67205</td>\n",
       "      <td>37.724018</td>\n",
       "      <td>-97.431369</td>\n",
       "      <td>28.0</td>\n",
       "      <td>hispanic</td>\n",
       "      <td>male</td>\n",
       "      <td>...</td>\n",
       "      <td>SPEED OVER LIMIT</td>\n",
       "      <td>True</td>\n",
       "      <td>citation</td>\n",
       "      <td>40.0</td>\n",
       "      <td>\"ALUMINUM, SILVER\"</td>\n",
       "      <td>CHEVROLET</td>\n",
       "      <td>SILVERADO</td>\n",
       "      <td>NaN</td>\n",
       "      <td>W</td>\n",
       "      <td>H</td>\n",
       "    </tr>\n",
       "  </tbody>\n",
       "</table>\n",
       "<p>5 rows × 22 columns</p>\n",
       "</div>"
      ],
      "text/plain": [
       "   Unnamed: 0 raw_row_number        date      time  \\\n",
       "0           1         923578  2016-01-01  18:00:00   \n",
       "1           2         923657  2016-01-01  18:08:00   \n",
       "2           3         912091  2016-01-01  18:11:00   \n",
       "3           4         923680  2016-01-01  18:13:00   \n",
       "4           5         923681  2016-01-01  18:23:00   \n",
       "\n",
       "                               location        lat        lng  subject_age  \\\n",
       "0                  N WEST ST, KS, 67205  37.741425 -97.389764         16.0   \n",
       "1  8000 W 13TH ST N, WICHITA, KS, 67212  37.708795 -97.440594         44.0   \n",
       "2   500 S LIMUEL ST, WICHITA, KS, 67235  37.674821 -97.489990         20.0   \n",
       "3  7600 W 21ST ST N, WICHITA, KS, 67205  37.724018 -97.431369         21.0   \n",
       "4  7600 W 21ST ST N, WICHITA, KS, 67205  37.724018 -97.431369         28.0   \n",
       "\n",
       "  subject_race subject_sex  ...                 violation citation_issued  \\\n",
       "0        white      female  ...             RUN STOP SIGN            True   \n",
       "1        white        male  ...          SPEED OVER LIMIT            True   \n",
       "2        white        male  ...  DUI; INATTENTIVE DRIVING            True   \n",
       "3     hispanic      female  ...          SPEED OVER LIMIT            True   \n",
       "4     hispanic        male  ...          SPEED OVER LIMIT            True   \n",
       "\n",
       "    outcome  posted_speed       vehicle_color            vehicle_make  \\\n",
       "0  citation           NaN  BURGUNDY OR MAROON  JEEP (1989 TO PRESENT)   \n",
       "1  citation          40.0  \"ALUMINUM, SILVER\"                 HYUNDAI   \n",
       "2  citation           NaN               WHITE                   HONDA   \n",
       "3  citation          40.0  \"ALUMINUM, SILVER\"                  TOYOTA   \n",
       "4  citation          40.0  \"ALUMINUM, SILVER\"               CHEVROLET   \n",
       "\n",
       "  vehicle_model vehicle_year raw_defendant_race  raw_defendant_ethnicity  \n",
       "0           NaN       2008.0                  W                        N  \n",
       "1        TUCSON          NaN                  W                        N  \n",
       "2           NaN          NaN                  W                        N  \n",
       "3           NaN          NaN                  W                        H  \n",
       "4     SILVERADO          NaN                  W                        H  \n",
       "\n",
       "[5 rows x 22 columns]"
      ]
     },
     "execution_count": 7,
     "metadata": {},
     "output_type": "execute_result"
    }
   ],
   "source": [
    "four.head()"
   ]
  },
  {
   "cell_type": "code",
   "execution_count": 8,
   "metadata": {},
   "outputs": [],
   "source": [
    "population = pd.DataFrame({\"subject_race\" :[\"white\",\"black\", \"asian/pacific islander\", \"hispanic\"], \"num_people\":[246343, 42679, 19272, 63859]}, columns=[\"subject_race\", \"num_people\"])"
   ]
  },
  {
   "cell_type": "code",
   "execution_count": 9,
   "metadata": {},
   "outputs": [
    {
     "name": "stdout",
     "output_type": "stream",
     "text": [
      "<class 'pandas.core.frame.DataFrame'>\n",
      "RangeIndex: 4 entries, 0 to 3\n",
      "Data columns (total 2 columns):\n",
      "subject_race    4 non-null object\n",
      "num_people      4 non-null int64\n",
      "dtypes: int64(1), object(1)\n",
      "memory usage: 136.0+ bytes\n"
     ]
    }
   ],
   "source": [
    "population.info()"
   ]
  },
  {
   "cell_type": "code",
   "execution_count": 10,
   "metadata": {},
   "outputs": [
    {
     "data": {
      "text/html": [
       "<div>\n",
       "<style scoped>\n",
       "    .dataframe tbody tr th:only-of-type {\n",
       "        vertical-align: middle;\n",
       "    }\n",
       "\n",
       "    .dataframe tbody tr th {\n",
       "        vertical-align: top;\n",
       "    }\n",
       "\n",
       "    .dataframe thead th {\n",
       "        text-align: right;\n",
       "    }\n",
       "</style>\n",
       "<table border=\"1\" class=\"dataframe\">\n",
       "  <thead>\n",
       "    <tr style=\"text-align: right;\">\n",
       "      <th></th>\n",
       "      <th>subject_race</th>\n",
       "      <th>num_people</th>\n",
       "    </tr>\n",
       "  </thead>\n",
       "  <tbody>\n",
       "    <tr>\n",
       "      <th>0</th>\n",
       "      <td>white</td>\n",
       "      <td>246343</td>\n",
       "    </tr>\n",
       "    <tr>\n",
       "      <th>1</th>\n",
       "      <td>black</td>\n",
       "      <td>42679</td>\n",
       "    </tr>\n",
       "    <tr>\n",
       "      <th>2</th>\n",
       "      <td>asian/pacific islander</td>\n",
       "      <td>19272</td>\n",
       "    </tr>\n",
       "    <tr>\n",
       "      <th>3</th>\n",
       "      <td>hispanic</td>\n",
       "      <td>63859</td>\n",
       "    </tr>\n",
       "  </tbody>\n",
       "</table>\n",
       "</div>"
      ],
      "text/plain": [
       "             subject_race  num_people\n",
       "0                   white      246343\n",
       "1                   black       42679\n",
       "2  asian/pacific islander       19272\n",
       "3                hispanic       63859"
      ]
     },
     "execution_count": 10,
     "metadata": {},
     "output_type": "execute_result"
    }
   ],
   "source": [
    "population.head()"
   ]
  },
  {
   "cell_type": "code",
   "execution_count": 11,
   "metadata": {},
   "outputs": [
    {
     "data": {
      "text/plain": [
       "white                     32061\n",
       "black                      8038\n",
       "hispanic                   6709\n",
       "asian/pacific islander     1607\n",
       "Name: subject_race, dtype: int64"
      ]
     },
     "execution_count": 11,
     "metadata": {},
     "output_type": "execute_result"
    }
   ],
   "source": [
    "four. subject_race.value_counts()"
   ]
  },
  {
   "cell_type": "code",
   "execution_count": 12,
   "metadata": {},
   "outputs": [],
   "source": [
    "race = four.subject_race.value_counts().reset_index()"
   ]
  },
  {
   "cell_type": "code",
   "execution_count": 13,
   "metadata": {},
   "outputs": [
    {
     "data": {
      "text/html": [
       "<div>\n",
       "<style scoped>\n",
       "    .dataframe tbody tr th:only-of-type {\n",
       "        vertical-align: middle;\n",
       "    }\n",
       "\n",
       "    .dataframe tbody tr th {\n",
       "        vertical-align: top;\n",
       "    }\n",
       "\n",
       "    .dataframe thead th {\n",
       "        text-align: right;\n",
       "    }\n",
       "</style>\n",
       "<table border=\"1\" class=\"dataframe\">\n",
       "  <thead>\n",
       "    <tr style=\"text-align: right;\">\n",
       "      <th></th>\n",
       "      <th>index</th>\n",
       "      <th>subject_race</th>\n",
       "    </tr>\n",
       "  </thead>\n",
       "  <tbody>\n",
       "    <tr>\n",
       "      <th>0</th>\n",
       "      <td>white</td>\n",
       "      <td>32061</td>\n",
       "    </tr>\n",
       "    <tr>\n",
       "      <th>1</th>\n",
       "      <td>black</td>\n",
       "      <td>8038</td>\n",
       "    </tr>\n",
       "    <tr>\n",
       "      <th>2</th>\n",
       "      <td>hispanic</td>\n",
       "      <td>6709</td>\n",
       "    </tr>\n",
       "    <tr>\n",
       "      <th>3</th>\n",
       "      <td>asian/pacific islander</td>\n",
       "      <td>1607</td>\n",
       "    </tr>\n",
       "  </tbody>\n",
       "</table>\n",
       "</div>"
      ],
      "text/plain": [
       "                    index  subject_race\n",
       "0                   white         32061\n",
       "1                   black          8038\n",
       "2                hispanic          6709\n",
       "3  asian/pacific islander          1607"
      ]
     },
     "execution_count": 13,
     "metadata": {},
     "output_type": "execute_result"
    }
   ],
   "source": [
    "race. head()"
   ]
  },
  {
   "cell_type": "code",
   "execution_count": 14,
   "metadata": {},
   "outputs": [],
   "source": [
    "race = race.rename(columns ={\"index\" : \"subject_race\",\"subject_race\":\"count\"})"
   ]
  },
  {
   "cell_type": "code",
   "execution_count": 15,
   "metadata": {},
   "outputs": [
    {
     "name": "stdout",
     "output_type": "stream",
     "text": [
      "<class 'pandas.core.frame.DataFrame'>\n",
      "RangeIndex: 4 entries, 0 to 3\n",
      "Data columns (total 2 columns):\n",
      "subject_race    4 non-null object\n",
      "count           4 non-null int64\n",
      "dtypes: int64(1), object(1)\n",
      "memory usage: 136.0+ bytes\n"
     ]
    }
   ],
   "source": [
    "race.info()"
   ]
  },
  {
   "cell_type": "code",
   "execution_count": 16,
   "metadata": {},
   "outputs": [
    {
     "data": {
      "text/html": [
       "<div>\n",
       "<style scoped>\n",
       "    .dataframe tbody tr th:only-of-type {\n",
       "        vertical-align: middle;\n",
       "    }\n",
       "\n",
       "    .dataframe tbody tr th {\n",
       "        vertical-align: top;\n",
       "    }\n",
       "\n",
       "    .dataframe thead th {\n",
       "        text-align: right;\n",
       "    }\n",
       "</style>\n",
       "<table border=\"1\" class=\"dataframe\">\n",
       "  <thead>\n",
       "    <tr style=\"text-align: right;\">\n",
       "      <th></th>\n",
       "      <th>subject_race</th>\n",
       "      <th>count</th>\n",
       "    </tr>\n",
       "  </thead>\n",
       "  <tbody>\n",
       "    <tr>\n",
       "      <th>0</th>\n",
       "      <td>white</td>\n",
       "      <td>32061</td>\n",
       "    </tr>\n",
       "    <tr>\n",
       "      <th>1</th>\n",
       "      <td>black</td>\n",
       "      <td>8038</td>\n",
       "    </tr>\n",
       "    <tr>\n",
       "      <th>2</th>\n",
       "      <td>hispanic</td>\n",
       "      <td>6709</td>\n",
       "    </tr>\n",
       "    <tr>\n",
       "      <th>3</th>\n",
       "      <td>asian/pacific islander</td>\n",
       "      <td>1607</td>\n",
       "    </tr>\n",
       "  </tbody>\n",
       "</table>\n",
       "</div>"
      ],
      "text/plain": [
       "             subject_race  count\n",
       "0                   white  32061\n",
       "1                   black   8038\n",
       "2                hispanic   6709\n",
       "3  asian/pacific islander   1607"
      ]
     },
     "execution_count": 16,
     "metadata": {},
     "output_type": "execute_result"
    }
   ],
   "source": [
    "race.head()"
   ]
  },
  {
   "cell_type": "code",
   "execution_count": 17,
   "metadata": {},
   "outputs": [],
   "source": [
    "four = pd.merge(race,population, on=\"subject_race\")"
   ]
  },
  {
   "cell_type": "code",
   "execution_count": 18,
   "metadata": {},
   "outputs": [
    {
     "name": "stdout",
     "output_type": "stream",
     "text": [
      "<class 'pandas.core.frame.DataFrame'>\n",
      "Int64Index: 4 entries, 0 to 3\n",
      "Data columns (total 3 columns):\n",
      "subject_race    4 non-null object\n",
      "count           4 non-null int64\n",
      "num_people      4 non-null int64\n",
      "dtypes: int64(2), object(1)\n",
      "memory usage: 128.0+ bytes\n"
     ]
    }
   ],
   "source": [
    "four.info()"
   ]
  },
  {
   "cell_type": "code",
   "execution_count": 19,
   "metadata": {},
   "outputs": [
    {
     "data": {
      "text/html": [
       "<div>\n",
       "<style scoped>\n",
       "    .dataframe tbody tr th:only-of-type {\n",
       "        vertical-align: middle;\n",
       "    }\n",
       "\n",
       "    .dataframe tbody tr th {\n",
       "        vertical-align: top;\n",
       "    }\n",
       "\n",
       "    .dataframe thead th {\n",
       "        text-align: right;\n",
       "    }\n",
       "</style>\n",
       "<table border=\"1\" class=\"dataframe\">\n",
       "  <thead>\n",
       "    <tr style=\"text-align: right;\">\n",
       "      <th></th>\n",
       "      <th>subject_race</th>\n",
       "      <th>count</th>\n",
       "      <th>num_people</th>\n",
       "    </tr>\n",
       "  </thead>\n",
       "  <tbody>\n",
       "    <tr>\n",
       "      <th>0</th>\n",
       "      <td>white</td>\n",
       "      <td>32061</td>\n",
       "      <td>246343</td>\n",
       "    </tr>\n",
       "    <tr>\n",
       "      <th>1</th>\n",
       "      <td>black</td>\n",
       "      <td>8038</td>\n",
       "      <td>42679</td>\n",
       "    </tr>\n",
       "    <tr>\n",
       "      <th>2</th>\n",
       "      <td>hispanic</td>\n",
       "      <td>6709</td>\n",
       "      <td>63859</td>\n",
       "    </tr>\n",
       "    <tr>\n",
       "      <th>3</th>\n",
       "      <td>asian/pacific islander</td>\n",
       "      <td>1607</td>\n",
       "      <td>19272</td>\n",
       "    </tr>\n",
       "  </tbody>\n",
       "</table>\n",
       "</div>"
      ],
      "text/plain": [
       "             subject_race  count  num_people\n",
       "0                   white  32061      246343\n",
       "1                   black   8038       42679\n",
       "2                hispanic   6709       63859\n",
       "3  asian/pacific islander   1607       19272"
      ]
     },
     "execution_count": 19,
     "metadata": {},
     "output_type": "execute_result"
    }
   ],
   "source": [
    "four.head()"
   ]
  },
  {
   "cell_type": "code",
   "execution_count": 20,
   "metadata": {},
   "outputs": [],
   "source": [
    "four[\"stop_rate\"]=four[\"count\"]/four[\"num_people\"]"
   ]
  },
  {
   "cell_type": "code",
   "execution_count": 21,
   "metadata": {},
   "outputs": [
    {
     "data": {
      "text/html": [
       "<div>\n",
       "<style scoped>\n",
       "    .dataframe tbody tr th:only-of-type {\n",
       "        vertical-align: middle;\n",
       "    }\n",
       "\n",
       "    .dataframe tbody tr th {\n",
       "        vertical-align: top;\n",
       "    }\n",
       "\n",
       "    .dataframe thead th {\n",
       "        text-align: right;\n",
       "    }\n",
       "</style>\n",
       "<table border=\"1\" class=\"dataframe\">\n",
       "  <thead>\n",
       "    <tr style=\"text-align: right;\">\n",
       "      <th></th>\n",
       "      <th>subject_race</th>\n",
       "      <th>count</th>\n",
       "      <th>num_people</th>\n",
       "      <th>stop_rate</th>\n",
       "    </tr>\n",
       "  </thead>\n",
       "  <tbody>\n",
       "    <tr>\n",
       "      <th>0</th>\n",
       "      <td>white</td>\n",
       "      <td>32061</td>\n",
       "      <td>246343</td>\n",
       "      <td>0.130148</td>\n",
       "    </tr>\n",
       "    <tr>\n",
       "      <th>1</th>\n",
       "      <td>black</td>\n",
       "      <td>8038</td>\n",
       "      <td>42679</td>\n",
       "      <td>0.188336</td>\n",
       "    </tr>\n",
       "    <tr>\n",
       "      <th>2</th>\n",
       "      <td>hispanic</td>\n",
       "      <td>6709</td>\n",
       "      <td>63859</td>\n",
       "      <td>0.105060</td>\n",
       "    </tr>\n",
       "    <tr>\n",
       "      <th>3</th>\n",
       "      <td>asian/pacific islander</td>\n",
       "      <td>1607</td>\n",
       "      <td>19272</td>\n",
       "      <td>0.083385</td>\n",
       "    </tr>\n",
       "  </tbody>\n",
       "</table>\n",
       "</div>"
      ],
      "text/plain": [
       "             subject_race  count  num_people  stop_rate\n",
       "0                   white  32061      246343   0.130148\n",
       "1                   black   8038       42679   0.188336\n",
       "2                hispanic   6709       63859   0.105060\n",
       "3  asian/pacific islander   1607       19272   0.083385"
      ]
     },
     "execution_count": 21,
     "metadata": {},
     "output_type": "execute_result"
    }
   ],
   "source": [
    "four.head()"
   ]
  },
  {
   "cell_type": "code",
   "execution_count": 24,
   "metadata": {},
   "outputs": [],
   "source": [
    "%matplotlib inline"
   ]
  },
  {
   "cell_type": "code",
   "execution_count": 25,
   "metadata": {},
   "outputs": [
    {
     "data": {
      "text/plain": [
       "<matplotlib.axes._subplots.AxesSubplot at 0xf6dac08>"
      ]
     },
     "execution_count": 25,
     "metadata": {},
     "output_type": "execute_result"
    },
    {
     "data": {
      "image/png": "[encoded data removed]",
      "text/plain": [
       "<Figure size 432x288 with 1 Axes>"
      ]
     },
     "metadata": {
      "needs_background": "light"
     },
     "output_type": "display_data"
    }
   ],
   "source": [
    "four.stop_rate.plot.bar()"
   ]
  },
  {
   "cell_type": "code",
   "execution_count": 28,
   "metadata": {},
   "outputs": [
    {
     "data": {
      "text/plain": [
       "[Text(0,0,'white'),\n",
       " Text(0,0,'black'),\n",
       " Text(0,0,'hispanic'),\n",
       " Text(0,0,'asian/pacific islander')]"
      ]
     },
     "execution_count": 28,
     "metadata": {},
     "output_type": "execute_result"
    },
    {
     "data": {
      "image/png": "[encoded data removed]",
      "text/plain": [
       "<Figure size 432x288 with 1 Axes>"
      ]
     },
     "metadata": {
      "needs_background": "light"
     },
     "output_type": "display_data"
    }
   ],
   "source": [
    "chart=four.stop_rate.plot.barh()\n",
    "chart.set_yticklabels(four.subject_race)"
   ]
  },
  {
   "cell_type": "code",
   "execution_count": 29,
   "metadata": {},
   "outputs": [],
   "source": [
    "four.to_csv(\"stops.csv\")"
   ]
  },
  {
   "cell_type": "code",
   "execution_count": null,
   "metadata": {},
   "outputs": [],
   "source": []
  }
 ],
 "metadata": {
  "kernelspec": {
   "display_name": "Python 2",
   "language": "python",
   "name": "python2"
  },
  "language_info": {
   "codemirror_mode": {
    "name": "ipython",
    "version": 2
   },
   "file_extension": ".py",
   "mimetype": "text/x-python",
   "name": "python",
   "nbconvert_exporter": "python",
   "pygments_lexer": "ipython2",
   "version": "2.7.17"
  }
 },
 "nbformat": 4,
 "nbformat_minor": 2
}
